{
  "nbformat": 4,
  "nbformat_minor": 0,
  "metadata": {
    "colab": {
      "provenance": []
    },
    "kernelspec": {
      "name": "python3",
      "display_name": "Python 3"
    },
    "language_info": {
      "name": "python"
    }
  },
  "cells": [
    {
      "cell_type": "code",
      "source": [
        "!pip install BeautifulSoup4"
      ],
      "metadata": {
        "colab": {
          "base_uri": "https://localhost:8080/"
        },
        "id": "yc-cITHZOf7p",
        "outputId": "9a45c386-ff9d-44d5-dbac-336bfa75a3e5"
      },
      "execution_count": 1,
      "outputs": [
        {
          "output_type": "stream",
          "name": "stdout",
          "text": [
            "Looking in indexes: https://pypi.org/simple, https://us-python.pkg.dev/colab-wheels/public/simple/\n",
            "Requirement already satisfied: BeautifulSoup4 in /usr/local/lib/python3.10/dist-packages (4.11.2)\n",
            "Requirement already satisfied: soupsieve>1.2 in /usr/local/lib/python3.10/dist-packages (from BeautifulSoup4) (2.4.1)\n"
          ]
        }
      ]
    },
    {
      "cell_type": "code",
      "source": [
        "import requests\n",
        "from bs4 import BeautifulSoup\n",
        "import re"
      ],
      "metadata": {
        "id": "fbIkA0vWSUrS"
      },
      "execution_count": 2,
      "outputs": []
    },
    {
      "cell_type": "code",
      "source": [
        "# 만개의 매거진 Main 레시피 id 크롤링\n",
        "def MainRecipeIdCrawler(pageId):\n",
        "\n",
        "    # for i in range(1, pageId + 1):\n",
        "    # url = f'https://www.10000recipe.com/issue/view.html?cid=10000mag&page={i}'\n",
        "\n",
        "    url = 'https://www.10000recipe.com/issue/view.html?cid=10000mag&page=' + pageId\n",
        "\n",
        "    response = requests.get(url)\n",
        "    html = response.text\n",
        "    soup = BeautifulSoup(html, 'html.parser')\n",
        "\n",
        "    main_recipe_id = [] # Main 레시피 id\n",
        "\n",
        "    # Main 레시피 id\n",
        "    elements = soup.select('#contents_area_full > div.chef_cont > div > div > a.thumbnail')\n",
        "    for element in elements:\n",
        "        id = re.sub(r'\\D', '', element['href'])\n",
        "        main_recipe_id.append(id)\n",
        "\n",
        "    return(main_recipe_id)"
      ],
      "metadata": {
        "id": "YO7pmeLlCOWU"
      },
      "execution_count": 3,
      "outputs": []
    },
    {
      "cell_type": "code",
      "source": [
        "# 만개의 매거진 1페이지\n",
        "MainRecipeIdCrawler(str(1))"
      ],
      "metadata": {
        "colab": {
          "base_uri": "https://localhost:8080/"
        },
        "id": "rTPGSUnnJ0wi",
        "outputId": "6de1c163-85b2-4db9-9e99-baae0b7da29c"
      },
      "execution_count": 4,
      "outputs": [
        {
          "output_type": "execute_result",
          "data": {
            "text/plain": [
              "['6988334',\n",
              " '6987988',\n",
              " '6987503',\n",
              " '6987032',\n",
              " '6986287',\n",
              " '6985914',\n",
              " '6985381',\n",
              " '6984838',\n",
              " '6984384',\n",
              " '6983991',\n",
              " '6983544',\n",
              " '6983029',\n",
              " '6982533',\n",
              " '6982076',\n",
              " '6981536',\n",
              " '6980953',\n",
              " '6980539',\n",
              " '6980076',\n",
              " '6979563',\n",
              " '6979200']"
            ]
          },
          "metadata": {},
          "execution_count": 4
        }
      ]
    },
    {
      "cell_type": "code",
      "source": [
        "# 만개의 매거진 Sub 레시피 id 크롤링\n",
        "def SubRecipeIdCrawler(main_recipe_id):\n",
        "\n",
        "    url = 'https://www.10000recipe.com/recipe/' + main_recipe_id\n",
        "\n",
        "    response = requests.get(url)\n",
        "    html = response.text\n",
        "    soup = BeautifulSoup(html, 'html.parser')\n",
        "\n",
        "    sub_recipe_id = [] # Sub 레시피 id\n",
        "\n",
        "    # Sub 레시피 id 및 이름\n",
        "    elements = soup.select('#contents_area > div > div.view_step_cont')\n",
        "    for element in elements:\n",
        "        id = re.sub(r'\\D', '', element.find('a')['href'])\n",
        "        sub_recipe_id.append(id)\n",
        "\n",
        "    return(sub_recipe_id)"
      ],
      "metadata": {
        "id": "lyLz9TJ-CuvV"
      },
      "execution_count": 5,
      "outputs": []
    },
    {
      "cell_type": "code",
      "source": [
        "# 도시락에 빠질 수 없는 ✿유부초밥✿ 레시피 모음 (연어유부초밥, 크래미유부초밥, 명란마요유부초밥, 새우유부밥, 삼색유부초밥)\n",
        "SubRecipeIdCrawler(str(6988334))"
      ],
      "metadata": {
        "colab": {
          "base_uri": "https://localhost:8080/"
        },
        "id": "vHFI1coMEAS1",
        "outputId": "1a3db412-c5d7-4e02-c702-ab1d202a7d42"
      },
      "execution_count": 6,
      "outputs": [
        {
          "output_type": "execute_result",
          "data": {
            "text/plain": [
              "['6909678', '6916853', '6984195', '6962138', '6855278']"
            ]
          },
          "metadata": {},
          "execution_count": 6
        }
      ]
    },
    {
      "cell_type": "code",
      "source": [
        "# 레시피 하나만 크롤링\n",
        "def RecipeCrawler(recipeId):\n",
        "    url = 'https://www.10000recipe.com/recipe/' + recipeId\n",
        "\n",
        "    response = requests.get(url)\n",
        "    html = response.text\n",
        "    soup = BeautifulSoup(html, 'html.parser')\n",
        "\n",
        "    recipe_id = [] # 레시피 id\n",
        "    recipe_name = [] # 레시피 이름\n",
        "    recipe_thumbnail = [] # 레시피 썸네일\n",
        "    recipe_time = [] # 레시피 시간\n",
        "    recipe_difficulty = [] # 레시피 난이도\n",
        "    recipe_composition = [] # 레시피 구성\n",
        "    recipe_ingredients = [] # 레시피 재료\n",
        "    recipe_seasoning = [] # 레시피 양념\n",
        "    recipe_orders = [] # 레시피 조리 순서\n",
        "    recipe_photo = [] # 레시피 사진\n",
        "\n",
        "    # 레시피 id\n",
        "    recipe_id.append(recipeId)\n",
        "\n",
        "    # 레시피 이름\n",
        "    name = soup.select_one('#relationGoods > div.best_tit')\n",
        "    recipe_name.append(name.get_text().split()[0])\n",
        "\n",
        "    # 레시피 썸네일\n",
        "    thumbnail = soup.select_one('#contents_area > div.view2_pic > div.centeredcrop img')['src']\n",
        "    recipe_thumbnail.append(thumbnail)\n",
        "\n",
        "    # 레시피 시간\n",
        "    time = soup.select_one('#contents_area > div.view2_summary.st3 > div.view2_summary_info > span.view2_summary_info2').get_text()\n",
        "    recipe_time.append(time)\n",
        "\n",
        "    # 레시피 난이도\n",
        "    difficulty = soup.select_one('#contents_area > div.view2_summary.st3 > div.view2_summary_info > span.view2_summary_info3').get_text()\n",
        "    recipe_difficulty.append(difficulty)\n",
        "\n",
        "    # 레시피 구성 (정보 없음)\n",
        "    recipe_composition.append('든든하게')\n",
        "\n",
        "    # 레시피 재료\n",
        "    elements = soup.select_one('#divConfirmedMaterialArea > ul:nth-child(1)')\n",
        "    tmp = ''\n",
        "    for element in elements.select('li'):\n",
        "        ingredient = re.sub(r'\\s+', ' ', element.get_text().replace('구매', '').strip()) # 구매 링크 제외\n",
        "        tmp = tmp + ('#' + ingredient)\n",
        "    recipe_ingredients.append(tmp)\n",
        "    \n",
        "    # 레시피 양념\n",
        "    try:\n",
        "        elements = soup.select_one('#divConfirmedMaterialArea > ul:nth-child(2)')\n",
        "        tmp = ''\n",
        "        for element in elements.select('li'):\n",
        "            seasoning = re.sub(r'\\s+', ' ', element.get_text().replace('구매', '').strip()) # 구매 링크 제외\n",
        "            tmp = tmp + ('#' + seasoning)\n",
        "        recipe_seasoning.append(tmp)\n",
        "    except AttributeError:\n",
        "        recipe_seasoning.append('')\n",
        "    else:\n",
        "        pass\n",
        "\n",
        "    # 레시피 조리 순서 및 사진\n",
        "    elements = soup.select_one('#contents_area > div:nth-child(16)')\n",
        "    elements = elements.find_all('div', 'view_step_cont')\n",
        "    tmp1 = ''\n",
        "    tmp2 = ''\n",
        "    for i, element in enumerate(elements, start=1):\n",
        "        order = element.find('div', 'media-body')\n",
        "        order = ''.join(order.findAll(string=True, recursive=False)).strip() # 조리 순서에서 설명, 주방 도구 제외\n",
        "        tmp1 = tmp1 + ('#' + str(i) + '. ' + order)\n",
        "        photo = element.find('img')['src']\n",
        "        tmp2 = tmp2 + ('#' + photo)\n",
        "    recipe_orders.append(tmp1)\n",
        "    recipe_photo.append(tmp2)\n",
        "                                 \n",
        "    recipe_all = [recipe_id, recipe_name, recipe_thumbnail, recipe_time, recipe_difficulty, recipe_composition, recipe_ingredients, recipe_seasoning, recipe_orders, recipe_photo]\n",
        "    \n",
        "    return(recipe_all)"
      ],
      "metadata": {
        "id": "q46o0Te4GFlm"
      },
      "execution_count": 7,
      "outputs": []
    },
    {
      "cell_type": "code",
      "source": [
        "# 연어유부초밥 (만개의 매거진의 레시피)\n",
        "RecipeCrawler(str(6909678))"
      ],
      "metadata": {
        "colab": {
          "base_uri": "https://localhost:8080/"
        },
        "id": "IOow35VLI7Ba",
        "outputId": "05b0ea1b-710e-4d27-f075-9049263e6caf"
      },
      "execution_count": 8,
      "outputs": [
        {
          "output_type": "execute_result",
          "data": {
            "text/plain": [
              "[['6909678'],\n",
              " ['연어유부초밥'],\n",
              " ['https://recipe1.ezmember.co.kr/cache/recipe/2019/04/02/f8e2bac1e4e5387b34ef9dfa04f343b41.jpg'],\n",
              " ['15분 이내'],\n",
              " ['아무나'],\n",
              " ['든든하게'],\n",
              " ['#시판 유부 초밥 1봉지#밥 1+1/2공기#연어 1팩'],\n",
              " ['#다진 양파 2숟가락#마요네즈 3가락#레몬즙 1/2숟가락#꿀 1숟가락#소금 약간#후추 약간'],\n",
              " ['#1. 연어는 작게 썬다.#2. 볼에 소스를 만든다.#3. 밥에 배합초를 넣고 버무린다.#4. 유부의 물기를 짜고 밥>소스>연어를 올려 완성한다.'],\n",
              " ['#https://recipe1.ezmember.co.kr/cache/recipe/2019/04/01/1617be01e2c10f03acd3dde68c6f954f1.jpg#https://recipe1.ezmember.co.kr/cache/recipe/2019/04/01/0d63f0109b119a2b19d657de551ac10f1.jpg#https://recipe1.ezmember.co.kr/cache/recipe/2019/04/01/d576fafdfe011986ea97ea2c2f6040311.jpg#https://recipe1.ezmember.co.kr/cache/recipe/2019/04/01/c3be7cecabd170ada406bd7ee65362db1.jpg']]"
            ]
          },
          "metadata": {},
          "execution_count": 8
        }
      ]
    },
    {
      "cell_type": "code",
      "source": [
        "# 크래미유부초밥 (만개의 매거진의 레시피)\n",
        "RecipeCrawler(str(6916853))"
      ],
      "metadata": {
        "colab": {
          "base_uri": "https://localhost:8080/"
        },
        "id": "DvOTBd_Cd0eA",
        "outputId": "6db89373-c01c-41e7-d368-37a8680b01e3"
      },
      "execution_count": 9,
      "outputs": [
        {
          "output_type": "execute_result",
          "data": {
            "text/plain": [
              "[['6916853'],\n",
              " ['크래미유부초밥'],\n",
              " ['https://recipe1.ezmember.co.kr/cache/recipe/2019/08/01/ccc38222338c8673dc9588c610303a811.jpg'],\n",
              " ['20분 이내'],\n",
              " ['아무나'],\n",
              " ['든든하게'],\n",
              " ['#크래미 5개#밥 2/3공기#시판 유부초밥 1봉지#양파 1/4개'],\n",
              " ['#허니머스터드 1숟가락#마요네즈 3+1/2숟가락#후추 약간'],\n",
              " ['#1. 양파는 잘게 다진 뒤 찬물에 5분간 담가 건져요.#2. 크래미를 결대로 찢은 후 양파, 양념 재료를 넣고 섞어요.#3. 밥에 유부초밥 후리가케와 배합초를 넣고 섞어요.#4. 유부는 물기를 짠 후 밥을 2/3정도 채워 주고 양념한 크래미를 올려 완성해요.'],\n",
              " ['#https://recipe1.ezmember.co.kr/cache/recipe/2019/08/01/60c14bbde877d3d236da5f8e73150c981.jpg#https://recipe1.ezmember.co.kr/cache/recipe/2019/08/01/42d42653f516f12fa7120a8563f5918c1.jpg#https://recipe1.ezmember.co.kr/cache/recipe/2019/08/01/473bdc6adc55aec411fb7451b037ce071.jpg#https://recipe1.ezmember.co.kr/cache/recipe/2019/08/01/c54c2323729a60f4a1076b9a0a5d32701.jpg']]"
            ]
          },
          "metadata": {},
          "execution_count": 9
        }
      ]
    },
    {
      "cell_type": "code",
      "source": [
        "# 치즈케이크 (만개의 레시피의 레시피)\n",
        "RecipeCrawler(str(6992105))"
      ],
      "metadata": {
        "colab": {
          "base_uri": "https://localhost:8080/"
        },
        "id": "cFuyV7NsZDek",
        "outputId": "8c6a93bd-e571-4f53-8ed1-3ac952d3b727"
      },
      "execution_count": 10,
      "outputs": [
        {
          "output_type": "execute_result",
          "data": {
            "text/plain": [
              "[['6992105'],\n",
              " ['치즈케이크'],\n",
              " ['https://recipe1.ezmember.co.kr/cache/recipe/2022/11/16/fb0b4b6803b6e4c0f3f466f099f033b81.jpg'],\n",
              " ['20분 이내'],\n",
              " ['아무나'],\n",
              " ['든든하게'],\n",
              " ['#크림치즈 200g#설탕 3숟가락#달걀 노른자 2개#밀가루 박력분 2숟가락#바닐라 익스트랙 1~2방울#식용유 약간'],\n",
              " [''],\n",
              " ['#1. 크림치즈를 부드럽게 풀어준다.#2. 설탕을 넣고 설탕이 녹을 때까지 잘 풀어준다.#3. 달걀 노른자를 넣고 덩어리가 생기지 않도록 풀어준다.#4. 밀가루 박력분을 체 쳐 넣고 섞는다.#5. 바닐라 익스트랙을 넣고 섞는다.#6. 전자레인지용 용기에 식용유를 살짝 바르고 반죽을 붓는다.#7. 평평하게 만든 후 뚜껑을 덮고 전자레인지에 넣어 4분(700W 기준) 돌린다.'],\n",
              " ['#https://recipe1.ezmember.co.kr/cache/recipe/2022/11/16/6d2099d4041a97a4bb2b301ce06905911.jpg#https://recipe1.ezmember.co.kr/cache/recipe/2022/11/16/35a6c38fe87ea9739872ff31a239d0201.jpg#https://recipe1.ezmember.co.kr/cache/recipe/2022/11/16/cabb4e7cf3dc067e730aa8f9c9b1d1231.jpg#https://recipe1.ezmember.co.kr/cache/recipe/2022/11/16/921e0b136528411239767ddce2c6e6fc1.jpg#https://recipe1.ezmember.co.kr/cache/recipe/2022/11/16/639dd4d7a7ef0287f7a8e7761db05ca11.jpg#https://recipe1.ezmember.co.kr/cache/recipe/2022/11/16/2e27d822236f43775ce3239e862616111.jpg#https://recipe1.ezmember.co.kr/cache/recipe/2022/11/16/2d3062d01c1db023d4b719b4f1b453b21.jpg']]"
            ]
          },
          "metadata": {},
          "execution_count": 10
        }
      ]
    }
  ]
}