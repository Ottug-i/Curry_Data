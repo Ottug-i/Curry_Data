{
  "nbformat": 4,
  "nbformat_minor": 0,
  "metadata": {
    "colab": {
      "provenance": []
    },
    "kernelspec": {
      "name": "python3",
      "display_name": "Python 3"
    },
    "language_info": {
      "name": "python"
    }
  },
  "cells": [
    {
      "cell_type": "code",
      "source": [
        "!pip install BeautifulSoup4"
      ],
      "metadata": {
        "colab": {
          "base_uri": "https://localhost:8080/"
        },
        "id": "yc-cITHZOf7p",
        "outputId": "45d58e39-69ac-40e3-de46-6fe8c30b04d4"
      },
      "execution_count": 1,
      "outputs": [
        {
          "output_type": "stream",
          "name": "stdout",
          "text": [
            "Looking in indexes: https://pypi.org/simple, https://us-python.pkg.dev/colab-wheels/public/simple/\n",
            "Requirement already satisfied: BeautifulSoup4 in /usr/local/lib/python3.10/dist-packages (4.11.2)\n",
            "Requirement already satisfied: soupsieve>1.2 in /usr/local/lib/python3.10/dist-packages (from BeautifulSoup4) (2.4.1)\n"
          ]
        }
      ]
    },
    {
      "cell_type": "code",
      "source": [
        "import requests\n",
        "from bs4 import BeautifulSoup\n",
        "import re"
      ],
      "metadata": {
        "id": "fbIkA0vWSUrS"
      },
      "execution_count": 2,
      "outputs": []
    },
    {
      "cell_type": "code",
      "source": [
        "# 만개의 매거진 Main 레시피 id 크롤링\n",
        "def MainRecipeIdCrawler(pageId):\n",
        "    url = 'https://www.10000recipe.com/issue/view.html?cid=10000mag&page=' + pageId\n",
        "\n",
        "    response = requests.get(url)\n",
        "    html = response.text\n",
        "    soup = BeautifulSoup(html, 'html.parser')\n",
        "\n",
        "    main_recipe_id = [] # Main 레시피 id\n",
        "\n",
        "    # Main 레시피 id\n",
        "    elements = soup.select('#contents_area_full > div.chef_cont > div > div > a.thumbnail')\n",
        "    for element in elements:\n",
        "        id = re.sub(r'\\D', '', element['href'])\n",
        "        main_recipe_id.append(id)\n",
        "\n",
        "    return(main_recipe_id)"
      ],
      "metadata": {
        "id": "YO7pmeLlCOWU"
      },
      "execution_count": 3,
      "outputs": []
    },
    {
      "cell_type": "code",
      "source": [
        "# 만개의 매거진 1페이지\n",
        "MainRecipeIdCrawler(str(1))"
      ],
      "metadata": {
        "colab": {
          "base_uri": "https://localhost:8080/"
        },
        "id": "rTPGSUnnJ0wi",
        "outputId": "932d73ce-8936-41b1-f58f-29285c98f6f5"
      },
      "execution_count": 4,
      "outputs": [
        {
          "output_type": "execute_result",
          "data": {
            "text/plain": [
              "['6988334',\n",
              " '6987988',\n",
              " '6987503',\n",
              " '6987032',\n",
              " '6986287',\n",
              " '6985914',\n",
              " '6985381',\n",
              " '6984838',\n",
              " '6984384',\n",
              " '6983991',\n",
              " '6983544',\n",
              " '6983029',\n",
              " '6982533',\n",
              " '6982076',\n",
              " '6981536',\n",
              " '6980953',\n",
              " '6980539',\n",
              " '6980076',\n",
              " '6979563',\n",
              " '6979200']"
            ]
          },
          "metadata": {},
          "execution_count": 4
        }
      ]
    },
    {
      "cell_type": "code",
      "source": [
        "# 만개의 매거진 Sub 레시피 id, 레시피 이름 크롤링\n",
        "def SubRecipeIdCrawler(main_recipe_id):\n",
        "\n",
        "    url = 'https://www.10000recipe.com/recipe/' + main_recipe_id\n",
        "\n",
        "    response = requests.get(url)\n",
        "    html = response.text\n",
        "    soup = BeautifulSoup(html, 'html.parser')\n",
        "\n",
        "    sub_recipe_id = [] # Sub 레시피 id\n",
        "    sub_recipe_name = [] # 레시피 이름\n",
        "\n",
        "    # Sub 레시피 id 및 이름\n",
        "    elements = soup.select('#contents_area > div > div.view_step_cont')\n",
        "    for element in elements:\n",
        "        id = re.sub(r'\\D', '', element.find('a')['href'])\n",
        "        name = element.find('a').get_text().split()[0]\n",
        "        sub_recipe_id.append(id)\n",
        "        sub_recipe_name.append(name)\n",
        "\n",
        "    sub_recipe_all = [sub_recipe_id, sub_recipe_name]\n",
        "    return(sub_recipe_all)"
      ],
      "metadata": {
        "id": "lyLz9TJ-CuvV"
      },
      "execution_count": 5,
      "outputs": []
    },
    {
      "cell_type": "code",
      "source": [
        "# 도시락에 빠질 수 없는 ✿유부초밥✿ 레시피 모음 (연어유부초밥, 크래미유부초밥, 명란마요유부초밥, 새우유부밥, 삼색유부초밥)\n",
        "SubRecipeIdCrawler(str(6988334))"
      ],
      "metadata": {
        "colab": {
          "base_uri": "https://localhost:8080/"
        },
        "id": "vHFI1coMEAS1",
        "outputId": "566a78ee-72c4-434c-91cf-50da114b9e4a"
      },
      "execution_count": 6,
      "outputs": [
        {
          "output_type": "execute_result",
          "data": {
            "text/plain": [
              "[['6909678', '6916853', '6984195', '6962138', '6855278'],\n",
              " ['연어유부초밥', '크래미유부초밥', '명란마요유부초밥', '새우유부밥', '삼색유부초밥']]"
            ]
          },
          "metadata": {},
          "execution_count": 6
        }
      ]
    },
    {
      "cell_type": "code",
      "source": [
        "# 레시피 하나만 크롤링\n",
        "def RecipeCrawler(recipeId, name):\n",
        "    url = 'https://www.10000recipe.com/recipe/' + recipeId\n",
        "\n",
        "    response = requests.get(url)\n",
        "    html = response.text\n",
        "    soup = BeautifulSoup(html, 'html.parser')\n",
        "\n",
        "    recipe_id = [] # 레시피 id\n",
        "    recipe_name = [] # 레시피 이름\n",
        "    recipe_thumbnail = [] # 레시피 썸네일\n",
        "    recipe_time = [] # 레시피 시간\n",
        "    recipe_difficulty = [] # 레시피 난이도\n",
        "    recipe_composition = [] # 레시피 구성\n",
        "    recipe_ingredients = [] # 레시피 재료\n",
        "    recipe_seasoning = [] # 레시피 양념\n",
        "    recipe_orders = [] # 레시피 조리 순서\n",
        "    recipe_photo = [] # 레시피 사진\n",
        "\n",
        "    # 레시피 id\n",
        "    recipe_id.append(recipeId)\n",
        "\n",
        "    # 레시피 이름\n",
        "    recipe_name.append(name)\n",
        "\n",
        "    # 레시피 썸네일\n",
        "    thumbnail = soup.select_one('#contents_area > div.view2_pic > div.centeredcrop img')['src']\n",
        "    recipe_thumbnail.append(thumbnail)\n",
        "\n",
        "    # 레시피 시간\n",
        "    time = soup.select_one('#contents_area > div.view2_summary.st3 > div.view2_summary_info > span.view2_summary_info2').get_text()\n",
        "    recipe_time.append(time)\n",
        "\n",
        "    # 레시피 난이도\n",
        "    difficulty = soup.select_one('#contents_area > div.view2_summary.st3 > div.view2_summary_info > span.view2_summary_info3').get_text()\n",
        "    recipe_difficulty.append(difficulty)\n",
        "\n",
        "    # 레시피 구성 (정보 없음)\n",
        "    recipe_composition.append('든든하게')\n",
        "\n",
        "    # 레시피 재료\n",
        "    elements = soup.select_one('#divConfirmedMaterialArea > ul:nth-child(1)')\n",
        "    for element in elements.select('li'):\n",
        "        ingredient = re.sub(r'\\s+', ' ', element.get_text().replace('구매', '').strip()) # 구매 링크 제외\n",
        "        recipe_ingredients.append('#' + ingredient)\n",
        "    \n",
        "    # 레시피 양념\n",
        "    elements = soup.select_one('#divConfirmedMaterialArea > ul:nth-child(2)')\n",
        "    for element in elements.select('li'):\n",
        "        seasoning = re.sub(r'\\s+', ' ', element.get_text().replace('구매', '').strip()) # 구매 링크 제외\n",
        "        recipe_seasoning.append('#' + seasoning)\n",
        "\n",
        "    # 레시피 조리 순서 및 사진\n",
        "    elements = soup.select_one('#contents_area > div:nth-child(16)')\n",
        "    elements = elements.find_all('div', 'view_step_cont')\n",
        "    for i, element in enumerate(elements, start=1):\n",
        "        order = element.find('div', 'media-body')\n",
        "        order = ''.join(order.findAll(string=True, recursive=False)).strip() # 조리 순서에서 설명, 주방 도구 제외\n",
        "        photo = element.find('img')['src']\n",
        "        recipe_orders.append('#' + str(i) + '. ' + order)\n",
        "        recipe_photo.append('#' + photo)\n",
        "                                 \n",
        "    recipe_all = [recipe_id, recipe_name, recipe_thumbnail, recipe_time, recipe_difficulty, recipe_composition, recipe_ingredients, recipe_seasoning, recipe_orders, recipe_photo]\n",
        "    return(recipe_all)\n"
      ],
      "metadata": {
        "id": "q46o0Te4GFlm"
      },
      "execution_count": 7,
      "outputs": []
    },
    {
      "cell_type": "code",
      "source": [
        "# 연어유부초밥\n",
        "RecipeCrawler(str(6909678), '연어유부초밥')"
      ],
      "metadata": {
        "colab": {
          "base_uri": "https://localhost:8080/"
        },
        "id": "IOow35VLI7Ba",
        "outputId": "cfbdfe14-1074-4d0b-c3a9-d378c455e965"
      },
      "execution_count": 8,
      "outputs": [
        {
          "output_type": "execute_result",
          "data": {
            "text/plain": [
              "[['6909678'],\n",
              " ['연어유부초밥'],\n",
              " ['https://recipe1.ezmember.co.kr/cache/recipe/2019/04/02/f8e2bac1e4e5387b34ef9dfa04f343b41.jpg'],\n",
              " ['15분 이내'],\n",
              " ['아무나'],\n",
              " ['든든하게'],\n",
              " ['#시판 유부 초밥 1봉지', '#밥 1+1/2공기', '#연어 1팩'],\n",
              " ['#다진 양파 2숟가락', '#마요네즈 3가락', '#레몬즙 1/2숟가락', '#꿀 1숟가락', '#소금 약간', '#후추 약간'],\n",
              " ['#1. 연어는 작게 썬다.',\n",
              "  '#2. 볼에 소스를 만든다.',\n",
              "  '#3. 밥에 배합초를 넣고 버무린다.',\n",
              "  '#4. 유부의 물기를 짜고 밥>소스>연어를 올려 완성한다.'],\n",
              " ['#https://recipe1.ezmember.co.kr/cache/recipe/2019/04/01/1617be01e2c10f03acd3dde68c6f954f1.jpg',\n",
              "  '#https://recipe1.ezmember.co.kr/cache/recipe/2019/04/01/0d63f0109b119a2b19d657de551ac10f1.jpg',\n",
              "  '#https://recipe1.ezmember.co.kr/cache/recipe/2019/04/01/d576fafdfe011986ea97ea2c2f6040311.jpg',\n",
              "  '#https://recipe1.ezmember.co.kr/cache/recipe/2019/04/01/c3be7cecabd170ada406bd7ee65362db1.jpg']]"
            ]
          },
          "metadata": {},
          "execution_count": 8
        }
      ]
    },
    {
      "cell_type": "code",
      "source": [
        "# 크래미유부초밥\n",
        "RecipeCrawler(str(6916853), '크래미유부초밥')"
      ],
      "metadata": {
        "colab": {
          "base_uri": "https://localhost:8080/"
        },
        "id": "DvOTBd_Cd0eA",
        "outputId": "0ed2569c-d6ca-4c8f-e11a-9fe36f8c35b8"
      },
      "execution_count": 9,
      "outputs": [
        {
          "output_type": "execute_result",
          "data": {
            "text/plain": [
              "[['6916853'],\n",
              " ['크래미유부초밥'],\n",
              " ['https://recipe1.ezmember.co.kr/cache/recipe/2019/08/01/ccc38222338c8673dc9588c610303a811.jpg'],\n",
              " ['20분 이내'],\n",
              " ['아무나'],\n",
              " ['든든하게'],\n",
              " ['#크래미 5개', '#밥 2/3공기', '#시판 유부초밥 1봉지', '#양파 1/4개'],\n",
              " ['#허니머스터드 1숟가락', '#마요네즈 3+1/2숟가락', '#후추 약간'],\n",
              " ['#1. 양파는 잘게 다진 뒤 찬물에 5분간 담가 건져요.',\n",
              "  '#2. 크래미를 결대로 찢은 후 양파, 양념 재료를 넣고 섞어요.',\n",
              "  '#3. 밥에 유부초밥 후리가케와 배합초를 넣고 섞어요.',\n",
              "  '#4. 유부는 물기를 짠 후 밥을 2/3정도 채워 주고 양념한 크래미를 올려 완성해요.'],\n",
              " ['#https://recipe1.ezmember.co.kr/cache/recipe/2019/08/01/60c14bbde877d3d236da5f8e73150c981.jpg',\n",
              "  '#https://recipe1.ezmember.co.kr/cache/recipe/2019/08/01/42d42653f516f12fa7120a8563f5918c1.jpg',\n",
              "  '#https://recipe1.ezmember.co.kr/cache/recipe/2019/08/01/473bdc6adc55aec411fb7451b037ce071.jpg',\n",
              "  '#https://recipe1.ezmember.co.kr/cache/recipe/2019/08/01/c54c2323729a60f4a1076b9a0a5d32701.jpg']]"
            ]
          },
          "metadata": {},
          "execution_count": 9
        }
      ]
    }
  ]
}