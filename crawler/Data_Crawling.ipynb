{
  "nbformat": 4,
  "nbformat_minor": 0,
  "metadata": {
    "colab": {
      "provenance": []
    },
    "kernelspec": {
      "name": "python3",
      "display_name": "Python 3"
    },
    "language_info": {
      "name": "python"
    }
  },
  "cells": [
    {
      "cell_type": "markdown",
      "source": [
        "# 공공 데이터 가져오기"
      ],
      "metadata": {
        "id": "HjwUp_JdbrZf"
      }
    },
    {
      "cell_type": "code",
      "source": [
        "from google.colab import drive\n",
        "drive.mount('/content/drive')"
      ],
      "metadata": {
        "colab": {
          "base_uri": "https://localhost:8080/"
        },
        "id": "KyVXC5seN8xq",
        "outputId": "1e06996e-4fdd-4c3d-8d40-46c775b9398c"
      },
      "execution_count": 1,
      "outputs": [
        {
          "output_type": "stream",
          "name": "stdout",
          "text": [
            "Mounted at /content/drive\n"
          ]
        }
      ]
    },
    {
      "cell_type": "code",
      "source": [
        "import pandas as pd\n",
        "import numpy as np"
      ],
      "metadata": {
        "id": "sU-O94YJsNbQ"
      },
      "execution_count": 2,
      "outputs": []
    },
    {
      "cell_type": "code",
      "source": [
        "# 만개의 레시피 공공 데이터 불러오기\n",
        "recipe = pd.read_csv('/content/drive/MyDrive/Colab Notebooks/크롤링/recipe.csv', encoding='cp949')"
      ],
      "metadata": {
        "id": "PJUlaN1hOB4M"
      },
      "execution_count": 3,
      "outputs": []
    },
    {
      "cell_type": "code",
      "source": [
        "# 인덱스 설정\n",
        "recipe.set_index('id', inplace = True)"
      ],
      "metadata": {
        "id": "ArI61vn_Oiuw"
      },
      "execution_count": 4,
      "outputs": []
    },
    {
      "cell_type": "code",
      "source": [
        "recipe.sample()"
      ],
      "metadata": {
        "colab": {
          "base_uri": "https://localhost:8080/",
          "height": 112
        },
        "id": "-nMs9s1KOawl",
        "outputId": "2a3b10be-2443-4757-af3e-675618da4cd5"
      },
      "execution_count": 5,
      "outputs": [
        {
          "output_type": "execute_result",
          "data": {
            "text/plain": [
              "             name composition  \\\n",
              "id                              \n",
              "6901293  불고기우동샐러드         가볍게   \n",
              "\n",
              "                                               ingredients servings difficulty  \n",
              "id                                                                              \n",
              "6901293  [필수재료] 불고기용 소고기 200g| 우동면 1개| 양상추 2줌 [고기양념재료] ...      2인분         초급  "
            ],
            "text/html": [
              "\n",
              "  <div id=\"df-b63b43a0-77c2-44f9-afbf-6d76bb50854d\">\n",
              "    <div class=\"colab-df-container\">\n",
              "      <div>\n",
              "<style scoped>\n",
              "    .dataframe tbody tr th:only-of-type {\n",
              "        vertical-align: middle;\n",
              "    }\n",
              "\n",
              "    .dataframe tbody tr th {\n",
              "        vertical-align: top;\n",
              "    }\n",
              "\n",
              "    .dataframe thead th {\n",
              "        text-align: right;\n",
              "    }\n",
              "</style>\n",
              "<table border=\"1\" class=\"dataframe\">\n",
              "  <thead>\n",
              "    <tr style=\"text-align: right;\">\n",
              "      <th></th>\n",
              "      <th>name</th>\n",
              "      <th>composition</th>\n",
              "      <th>ingredients</th>\n",
              "      <th>servings</th>\n",
              "      <th>difficulty</th>\n",
              "    </tr>\n",
              "    <tr>\n",
              "      <th>id</th>\n",
              "      <th></th>\n",
              "      <th></th>\n",
              "      <th></th>\n",
              "      <th></th>\n",
              "      <th></th>\n",
              "    </tr>\n",
              "  </thead>\n",
              "  <tbody>\n",
              "    <tr>\n",
              "      <th>6901293</th>\n",
              "      <td>불고기우동샐러드</td>\n",
              "      <td>가볍게</td>\n",
              "      <td>[필수재료] 불고기용 소고기 200g| 우동면 1개| 양상추 2줌 [고기양념재료] ...</td>\n",
              "      <td>2인분</td>\n",
              "      <td>초급</td>\n",
              "    </tr>\n",
              "  </tbody>\n",
              "</table>\n",
              "</div>\n",
              "      <button class=\"colab-df-convert\" onclick=\"convertToInteractive('df-b63b43a0-77c2-44f9-afbf-6d76bb50854d')\"\n",
              "              title=\"Convert this dataframe to an interactive table.\"\n",
              "              style=\"display:none;\">\n",
              "        \n",
              "  <svg xmlns=\"http://www.w3.org/2000/svg\" height=\"24px\"viewBox=\"0 0 24 24\"\n",
              "       width=\"24px\">\n",
              "    <path d=\"M0 0h24v24H0V0z\" fill=\"none\"/>\n",
              "    <path d=\"M18.56 5.44l.94 2.06.94-2.06 2.06-.94-2.06-.94-.94-2.06-.94 2.06-2.06.94zm-11 1L8.5 8.5l.94-2.06 2.06-.94-2.06-.94L8.5 2.5l-.94 2.06-2.06.94zm10 10l.94 2.06.94-2.06 2.06-.94-2.06-.94-.94-2.06-.94 2.06-2.06.94z\"/><path d=\"M17.41 7.96l-1.37-1.37c-.4-.4-.92-.59-1.43-.59-.52 0-1.04.2-1.43.59L10.3 9.45l-7.72 7.72c-.78.78-.78 2.05 0 2.83L4 21.41c.39.39.9.59 1.41.59.51 0 1.02-.2 1.41-.59l7.78-7.78 2.81-2.81c.8-.78.8-2.07 0-2.86zM5.41 20L4 18.59l7.72-7.72 1.47 1.35L5.41 20z\"/>\n",
              "  </svg>\n",
              "      </button>\n",
              "      \n",
              "  <style>\n",
              "    .colab-df-container {\n",
              "      display:flex;\n",
              "      flex-wrap:wrap;\n",
              "      gap: 12px;\n",
              "    }\n",
              "\n",
              "    .colab-df-convert {\n",
              "      background-color: #E8F0FE;\n",
              "      border: none;\n",
              "      border-radius: 50%;\n",
              "      cursor: pointer;\n",
              "      display: none;\n",
              "      fill: #1967D2;\n",
              "      height: 32px;\n",
              "      padding: 0 0 0 0;\n",
              "      width: 32px;\n",
              "    }\n",
              "\n",
              "    .colab-df-convert:hover {\n",
              "      background-color: #E2EBFA;\n",
              "      box-shadow: 0px 1px 2px rgba(60, 64, 67, 0.3), 0px 1px 3px 1px rgba(60, 64, 67, 0.15);\n",
              "      fill: #174EA6;\n",
              "    }\n",
              "\n",
              "    [theme=dark] .colab-df-convert {\n",
              "      background-color: #3B4455;\n",
              "      fill: #D2E3FC;\n",
              "    }\n",
              "\n",
              "    [theme=dark] .colab-df-convert:hover {\n",
              "      background-color: #434B5C;\n",
              "      box-shadow: 0px 1px 3px 1px rgba(0, 0, 0, 0.15);\n",
              "      filter: drop-shadow(0px 1px 2px rgba(0, 0, 0, 0.3));\n",
              "      fill: #FFFFFF;\n",
              "    }\n",
              "  </style>\n",
              "\n",
              "      <script>\n",
              "        const buttonEl =\n",
              "          document.querySelector('#df-b63b43a0-77c2-44f9-afbf-6d76bb50854d button.colab-df-convert');\n",
              "        buttonEl.style.display =\n",
              "          google.colab.kernel.accessAllowed ? 'block' : 'none';\n",
              "\n",
              "        async function convertToInteractive(key) {\n",
              "          const element = document.querySelector('#df-b63b43a0-77c2-44f9-afbf-6d76bb50854d');\n",
              "          const dataTable =\n",
              "            await google.colab.kernel.invokeFunction('convertToInteractive',\n",
              "                                                     [key], {});\n",
              "          if (!dataTable) return;\n",
              "\n",
              "          const docLinkHtml = 'Like what you see? Visit the ' +\n",
              "            '<a target=\"_blank\" href=https://colab.research.google.com/notebooks/data_table.ipynb>data table notebook</a>'\n",
              "            + ' to learn more about interactive tables.';\n",
              "          element.innerHTML = '';\n",
              "          dataTable['output_type'] = 'display_data';\n",
              "          await google.colab.output.renderOutput(dataTable, element);\n",
              "          const docLink = document.createElement('div');\n",
              "          docLink.innerHTML = docLinkHtml;\n",
              "          element.appendChild(docLink);\n",
              "        }\n",
              "      </script>\n",
              "    </div>\n",
              "  </div>\n",
              "  "
            ]
          },
          "metadata": {},
          "execution_count": 5
        }
      ]
    },
    {
      "cell_type": "code",
      "source": [
        "# 레시피 id 리스트\n",
        "id_list = recipe.index.to_list()\n",
        "print(len(id_list))"
      ],
      "metadata": {
        "colab": {
          "base_uri": "https://localhost:8080/"
        },
        "id": "di2jbDagP5ZN",
        "outputId": "bd801962-f101-4bf3-dcec-8a8a5d94099d"
      },
      "execution_count": 6,
      "outputs": [
        {
          "output_type": "stream",
          "name": "stdout",
          "text": [
            "3704\n"
          ]
        }
      ]
    },
    {
      "cell_type": "markdown",
      "source": [
        "# 공공 데이터에 크롤링 정보 추가하기"
      ],
      "metadata": {
        "id": "b62RpuebbvxA"
      }
    },
    {
      "cell_type": "code",
      "source": [
        "!pip install BeautifulSoup4"
      ],
      "metadata": {
        "colab": {
          "base_uri": "https://localhost:8080/"
        },
        "id": "yc-cITHZOf7p",
        "outputId": "751d7191-eecf-4326-d1e0-4cead7064bea"
      },
      "execution_count": 7,
      "outputs": [
        {
          "output_type": "stream",
          "name": "stdout",
          "text": [
            "Looking in indexes: https://pypi.org/simple, https://us-python.pkg.dev/colab-wheels/public/simple/\n",
            "Requirement already satisfied: BeautifulSoup4 in /usr/local/lib/python3.10/dist-packages (4.11.2)\n",
            "Requirement already satisfied: soupsieve>1.2 in /usr/local/lib/python3.10/dist-packages (from BeautifulSoup4) (2.4.1)\n"
          ]
        }
      ]
    },
    {
      "cell_type": "code",
      "source": [
        "import requests\n",
        "from bs4 import BeautifulSoup\n",
        "import re"
      ],
      "metadata": {
        "id": "fbIkA0vWSUrS"
      },
      "execution_count": 8,
      "outputs": []
    },
    {
      "cell_type": "code",
      "source": [
        "# 레시피 id로 레시피 추가 정보 크롤링\n",
        "\n",
        "recipe_thumbnail = [] # 레시피 썸네일\n",
        "recipe_time = [] # 레시피 시간\n",
        "recipe_orders = [] # 레시피 조리 순서\n",
        "recipe_photo = [] # 레시피 사진\n",
        "    \n",
        "def RecipeCrawler(recipeId):\n",
        "    \n",
        "    url = f'https://www.10000recipe.com/recipe/{recipeId}'\n",
        "\n",
        "    response = requests.get(url)\n",
        "    html = response.text\n",
        "    soup = BeautifulSoup(html, 'html.parser')\n",
        "\n",
        "    # 레시피 썸네일\n",
        "    try:\n",
        "        thumbnail = soup.select_one('#contents_area > div.view2_pic > div.centeredcrop img')['src']\n",
        "        recipe_thumbnail.append(thumbnail)\n",
        "    except AttributeError:\n",
        "        recipe_thumbnail.append('')\n",
        "    pass\n",
        "\n",
        "    # 레시피 시간\n",
        "    try:\n",
        "        time = soup.select_one('#contents_area > div.view2_summary.st3 > div.view2_summary_info > span.view2_summary_info2').get_text()\n",
        "        recipe_time.append(time)\n",
        "    except AttributeError:\n",
        "        recipe_time.append('')\n",
        "    pass\n",
        "\n",
        "    # 레시피 조리 순서\n",
        "    try:\n",
        "        elements = soup.find_all('div', 'view_step_cont')\n",
        "        tmp = ''\n",
        "        for i, element in enumerate(elements, start=1):\n",
        "            order = element.find('div', 'media-body')\n",
        "            order = ''.join(order.findAll(string=True, recursive=False)).strip() # 조리 순서에서 설명, 주방 도구 제외\n",
        "            tmp = tmp + ('|' + str(i) + '. ' + order)\n",
        "        recipe_orders.append(tmp)\n",
        "    except AttributeError:\n",
        "        recipe_orders.append('')\n",
        "    pass\n",
        "\n",
        "    # 레시피 조리 사진\n",
        "    try:\n",
        "        elements = soup.find_all('div', 'view_step_cont')\n",
        "        tmp = ''\n",
        "        for i, element in enumerate(elements, start=1):\n",
        "            try:\n",
        "                photo = element.find('img')['src']\n",
        "                tmp = tmp + ('|' + photo)\n",
        "            except TypeError:\n",
        "                tmp = tmp + ('|' + ' ')\n",
        "            pass\n",
        "        recipe_photo.append(tmp)\n",
        "    except AttributeError:\n",
        "        recipe_photo.append('')\n",
        "    pass"
      ],
      "metadata": {
        "id": "q46o0Te4GFlm"
      },
      "execution_count": 9,
      "outputs": []
    },
    {
      "cell_type": "code",
      "source": [
        "# 10개만 테스트\n",
        "for i, id in enumerate(id_list[:10], start=1):\n",
        "    print(str(i) + \"번째 크롤링 id: \" + str(id))\n",
        "    RecipeCrawler(id)"
      ],
      "metadata": {
        "colab": {
          "base_uri": "https://localhost:8080/"
        },
        "id": "G_6UzbVTQTSr",
        "outputId": "329fc229-9c5a-4a24-f9a8-a3126da66a23"
      },
      "execution_count": 10,
      "outputs": [
        {
          "output_type": "stream",
          "name": "stdout",
          "text": [
            "1번째 크롤링 id: 6842324\n",
            "2번째 크롤링 id: 6845721\n",
            "3번째 크롤링 id: 6845906\n",
            "4번째 크롤링 id: 6846020\n",
            "5번째 크롤링 id: 6846262\n",
            "6번째 크롤링 id: 6846342\n",
            "7번째 크롤링 id: 6846428\n",
            "8번째 크롤링 id: 6846512\n",
            "9번째 크롤링 id: 6846633\n",
            "10번째 크롤링 id: 6846770\n"
          ]
        }
      ]
    },
    {
      "cell_type": "code",
      "source": [
        "# 10개만 테스트\n",
        "curry_recipe = recipe[:10]"
      ],
      "metadata": {
        "id": "5676YGqUatcy"
      },
      "execution_count": 11,
      "outputs": []
    },
    {
      "cell_type": "code",
      "source": [
        "# 추가 정보 열 추가\n",
        "curry_recipe['thumbanil'] = recipe_thumbnail\n",
        "curry_recipe['time'] = recipe_time\n",
        "curry_recipe['orders'] = recipe_orders\n",
        "curry_recipe['photo'] = recipe_photo"
      ],
      "metadata": {
        "colab": {
          "base_uri": "https://localhost:8080/"
        },
        "id": "sO9kfMpwPt-s",
        "outputId": "1b2752e1-c4c0-4cac-f380-4e3a6ba3a27f"
      },
      "execution_count": 12,
      "outputs": [
        {
          "output_type": "stream",
          "name": "stderr",
          "text": [
            "<ipython-input-12-78a51626ca36>:2: SettingWithCopyWarning: \n",
            "A value is trying to be set on a copy of a slice from a DataFrame.\n",
            "Try using .loc[row_indexer,col_indexer] = value instead\n",
            "\n",
            "See the caveats in the documentation: https://pandas.pydata.org/pandas-docs/stable/user_guide/indexing.html#returning-a-view-versus-a-copy\n",
            "  curry_recipe['thumbanil'] = recipe_thumbnail\n",
            "<ipython-input-12-78a51626ca36>:3: SettingWithCopyWarning: \n",
            "A value is trying to be set on a copy of a slice from a DataFrame.\n",
            "Try using .loc[row_indexer,col_indexer] = value instead\n",
            "\n",
            "See the caveats in the documentation: https://pandas.pydata.org/pandas-docs/stable/user_guide/indexing.html#returning-a-view-versus-a-copy\n",
            "  curry_recipe['time'] = recipe_time\n",
            "<ipython-input-12-78a51626ca36>:4: SettingWithCopyWarning: \n",
            "A value is trying to be set on a copy of a slice from a DataFrame.\n",
            "Try using .loc[row_indexer,col_indexer] = value instead\n",
            "\n",
            "See the caveats in the documentation: https://pandas.pydata.org/pandas-docs/stable/user_guide/indexing.html#returning-a-view-versus-a-copy\n",
            "  curry_recipe['orders'] = recipe_orders\n",
            "<ipython-input-12-78a51626ca36>:5: SettingWithCopyWarning: \n",
            "A value is trying to be set on a copy of a slice from a DataFrame.\n",
            "Try using .loc[row_indexer,col_indexer] = value instead\n",
            "\n",
            "See the caveats in the documentation: https://pandas.pydata.org/pandas-docs/stable/user_guide/indexing.html#returning-a-view-versus-a-copy\n",
            "  curry_recipe['photo'] = recipe_photo\n"
          ]
        }
      ]
    },
    {
      "cell_type": "code",
      "source": [
        "curry_recipe.sample()"
      ],
      "metadata": {
        "colab": {
          "base_uri": "https://localhost:8080/",
          "height": 173
        },
        "id": "S_yJ0w_cZ2Wp",
        "outputId": "cc769728-2c23-4dfc-ed6a-ba325469297f"
      },
      "execution_count": 13,
      "outputs": [
        {
          "output_type": "execute_result",
          "data": {
            "text/plain": [
              "        name composition                                        ingredients  \\\n",
              "id                                                                            \n",
              "6846633  달걀빵         가볍게  [필수재료] 모닝빵 4개| 소금 약간| 후춧가루 약간 [토핑] 다진베이컨| 햄 4큰...   \n",
              "\n",
              "        servings difficulty  \\\n",
              "id                            \n",
              "6846633      2인분        아무나   \n",
              "\n",
              "                                                 thumbanil    time  \\\n",
              "id                                                                   \n",
              "6846633  https://recipe1.ezmember.co.kr/cache/recipe/20...  10분 이내   \n",
              "\n",
              "                                                    orders  \\\n",
              "id                                                           \n",
              "6846633  |1. 모닝빵은 윗면에 열십자(+)로 깊게 칼집을 넣는다.|2. 전자레인지용 그릇에...   \n",
              "\n",
              "                                                     photo  \n",
              "id                                                          \n",
              "6846633  |https://recipe1.ezmember.co.kr/cache/recipe/2...  "
            ],
            "text/html": [
              "\n",
              "  <div id=\"df-d4ea6076-f360-40a4-8f35-c7beab8f45a2\">\n",
              "    <div class=\"colab-df-container\">\n",
              "      <div>\n",
              "<style scoped>\n",
              "    .dataframe tbody tr th:only-of-type {\n",
              "        vertical-align: middle;\n",
              "    }\n",
              "\n",
              "    .dataframe tbody tr th {\n",
              "        vertical-align: top;\n",
              "    }\n",
              "\n",
              "    .dataframe thead th {\n",
              "        text-align: right;\n",
              "    }\n",
              "</style>\n",
              "<table border=\"1\" class=\"dataframe\">\n",
              "  <thead>\n",
              "    <tr style=\"text-align: right;\">\n",
              "      <th></th>\n",
              "      <th>name</th>\n",
              "      <th>composition</th>\n",
              "      <th>ingredients</th>\n",
              "      <th>servings</th>\n",
              "      <th>difficulty</th>\n",
              "      <th>thumbanil</th>\n",
              "      <th>time</th>\n",
              "      <th>orders</th>\n",
              "      <th>photo</th>\n",
              "    </tr>\n",
              "    <tr>\n",
              "      <th>id</th>\n",
              "      <th></th>\n",
              "      <th></th>\n",
              "      <th></th>\n",
              "      <th></th>\n",
              "      <th></th>\n",
              "      <th></th>\n",
              "      <th></th>\n",
              "      <th></th>\n",
              "      <th></th>\n",
              "    </tr>\n",
              "  </thead>\n",
              "  <tbody>\n",
              "    <tr>\n",
              "      <th>6846633</th>\n",
              "      <td>달걀빵</td>\n",
              "      <td>가볍게</td>\n",
              "      <td>[필수재료] 모닝빵 4개| 소금 약간| 후춧가루 약간 [토핑] 다진베이컨| 햄 4큰...</td>\n",
              "      <td>2인분</td>\n",
              "      <td>아무나</td>\n",
              "      <td>https://recipe1.ezmember.co.kr/cache/recipe/20...</td>\n",
              "      <td>10분 이내</td>\n",
              "      <td>|1. 모닝빵은 윗면에 열십자(+)로 깊게 칼집을 넣는다.|2. 전자레인지용 그릇에...</td>\n",
              "      <td>|https://recipe1.ezmember.co.kr/cache/recipe/2...</td>\n",
              "    </tr>\n",
              "  </tbody>\n",
              "</table>\n",
              "</div>\n",
              "      <button class=\"colab-df-convert\" onclick=\"convertToInteractive('df-d4ea6076-f360-40a4-8f35-c7beab8f45a2')\"\n",
              "              title=\"Convert this dataframe to an interactive table.\"\n",
              "              style=\"display:none;\">\n",
              "        \n",
              "  <svg xmlns=\"http://www.w3.org/2000/svg\" height=\"24px\"viewBox=\"0 0 24 24\"\n",
              "       width=\"24px\">\n",
              "    <path d=\"M0 0h24v24H0V0z\" fill=\"none\"/>\n",
              "    <path d=\"M18.56 5.44l.94 2.06.94-2.06 2.06-.94-2.06-.94-.94-2.06-.94 2.06-2.06.94zm-11 1L8.5 8.5l.94-2.06 2.06-.94-2.06-.94L8.5 2.5l-.94 2.06-2.06.94zm10 10l.94 2.06.94-2.06 2.06-.94-2.06-.94-.94-2.06-.94 2.06-2.06.94z\"/><path d=\"M17.41 7.96l-1.37-1.37c-.4-.4-.92-.59-1.43-.59-.52 0-1.04.2-1.43.59L10.3 9.45l-7.72 7.72c-.78.78-.78 2.05 0 2.83L4 21.41c.39.39.9.59 1.41.59.51 0 1.02-.2 1.41-.59l7.78-7.78 2.81-2.81c.8-.78.8-2.07 0-2.86zM5.41 20L4 18.59l7.72-7.72 1.47 1.35L5.41 20z\"/>\n",
              "  </svg>\n",
              "      </button>\n",
              "      \n",
              "  <style>\n",
              "    .colab-df-container {\n",
              "      display:flex;\n",
              "      flex-wrap:wrap;\n",
              "      gap: 12px;\n",
              "    }\n",
              "\n",
              "    .colab-df-convert {\n",
              "      background-color: #E8F0FE;\n",
              "      border: none;\n",
              "      border-radius: 50%;\n",
              "      cursor: pointer;\n",
              "      display: none;\n",
              "      fill: #1967D2;\n",
              "      height: 32px;\n",
              "      padding: 0 0 0 0;\n",
              "      width: 32px;\n",
              "    }\n",
              "\n",
              "    .colab-df-convert:hover {\n",
              "      background-color: #E2EBFA;\n",
              "      box-shadow: 0px 1px 2px rgba(60, 64, 67, 0.3), 0px 1px 3px 1px rgba(60, 64, 67, 0.15);\n",
              "      fill: #174EA6;\n",
              "    }\n",
              "\n",
              "    [theme=dark] .colab-df-convert {\n",
              "      background-color: #3B4455;\n",
              "      fill: #D2E3FC;\n",
              "    }\n",
              "\n",
              "    [theme=dark] .colab-df-convert:hover {\n",
              "      background-color: #434B5C;\n",
              "      box-shadow: 0px 1px 3px 1px rgba(0, 0, 0, 0.15);\n",
              "      filter: drop-shadow(0px 1px 2px rgba(0, 0, 0, 0.3));\n",
              "      fill: #FFFFFF;\n",
              "    }\n",
              "  </style>\n",
              "\n",
              "      <script>\n",
              "        const buttonEl =\n",
              "          document.querySelector('#df-d4ea6076-f360-40a4-8f35-c7beab8f45a2 button.colab-df-convert');\n",
              "        buttonEl.style.display =\n",
              "          google.colab.kernel.accessAllowed ? 'block' : 'none';\n",
              "\n",
              "        async function convertToInteractive(key) {\n",
              "          const element = document.querySelector('#df-d4ea6076-f360-40a4-8f35-c7beab8f45a2');\n",
              "          const dataTable =\n",
              "            await google.colab.kernel.invokeFunction('convertToInteractive',\n",
              "                                                     [key], {});\n",
              "          if (!dataTable) return;\n",
              "\n",
              "          const docLinkHtml = 'Like what you see? Visit the ' +\n",
              "            '<a target=\"_blank\" href=https://colab.research.google.com/notebooks/data_table.ipynb>data table notebook</a>'\n",
              "            + ' to learn more about interactive tables.';\n",
              "          element.innerHTML = '';\n",
              "          dataTable['output_type'] = 'display_data';\n",
              "          await google.colab.output.renderOutput(dataTable, element);\n",
              "          const docLink = document.createElement('div');\n",
              "          docLink.innerHTML = docLinkHtml;\n",
              "          element.appendChild(docLink);\n",
              "        }\n",
              "      </script>\n",
              "    </div>\n",
              "  </div>\n",
              "  "
            ]
          },
          "metadata": {},
          "execution_count": 13
        }
      ]
    },
    {
      "cell_type": "markdown",
      "source": [
        "# CSV 파일 내보내기"
      ],
      "metadata": {
        "id": "qkNmw52kb1O_"
      }
    },
    {
      "cell_type": "code",
      "source": [
        "# csv 파일 내보내기\n",
        "curry_recipe.to_csv('curry_recipe.csv', encoding='utf-8-sig')"
      ],
      "metadata": {
        "id": "n1571U9_qNrz"
      },
      "execution_count": 14,
      "outputs": []
    }
  ]
}