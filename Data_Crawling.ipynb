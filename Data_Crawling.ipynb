{
  "nbformat": 4,
  "nbformat_minor": 0,
  "metadata": {
    "colab": {
      "provenance": []
    },
    "kernelspec": {
      "name": "python3",
      "display_name": "Python 3"
    },
    "language_info": {
      "name": "python"
    }
  },
  "cells": [
    {
      "cell_type": "code",
      "source": [
        "!pip install BeautifulSoup4"
      ],
      "metadata": {
        "colab": {
          "base_uri": "https://localhost:8080/"
        },
        "id": "yc-cITHZOf7p",
        "outputId": "935014fa-3cf3-4899-967b-cfc0ac01ede3"
      },
      "execution_count": 1,
      "outputs": [
        {
          "output_type": "stream",
          "name": "stdout",
          "text": [
            "Looking in indexes: https://pypi.org/simple, https://us-python.pkg.dev/colab-wheels/public/simple/\n",
            "Requirement already satisfied: BeautifulSoup4 in /usr/local/lib/python3.10/dist-packages (4.11.2)\n",
            "Requirement already satisfied: soupsieve>1.2 in /usr/local/lib/python3.10/dist-packages (from BeautifulSoup4) (2.4.1)\n"
          ]
        }
      ]
    },
    {
      "cell_type": "code",
      "source": [
        "import requests\n",
        "from bs4 import BeautifulSoup"
      ],
      "metadata": {
        "id": "fbIkA0vWSUrS"
      },
      "execution_count": 2,
      "outputs": []
    },
    {
      "cell_type": "code",
      "source": [
        "# 레시피 하나만 크롤링\n",
        "import re\n",
        "\n",
        "def RecipeCrawler(recipeId):\n",
        "    url = 'https://www.10000recipe.com/recipe/' + recipeId\n",
        "\n",
        "    response = requests.get(url)\n",
        "    html = response.text\n",
        "    soup = BeautifulSoup(html, 'html.parser')\n",
        "\n",
        "    recipe_id = [] # 레시피 id\n",
        "    recipe_name = [] # 레시피 이름\n",
        "    recipe_thumbnail = [] # 레시피 썸네일\n",
        "    recipe_time = [] # 레시피 시간\n",
        "    recipe_difficulty = [] # 레시피 난이도\n",
        "    recipe_composition = [] # 레시피 구성\n",
        "    recipe_ingredients = [] # 레시피 재료\n",
        "    recipe_seasoning = [] # 레시피 양념\n",
        "    recipe_orders = [] # 레시피 조리 순서\n",
        "    recipe_photo = [] # 레시피 사진\n",
        "\n",
        "    # 레시피 id\n",
        "    recipe_id.append(recipeId)\n",
        "\n",
        "    # 레시피 이름\n",
        "    name = soup.select_one('#contents_area > div.view2_summary.st3 h3').get_text()\n",
        "    recipe_name.append(name)\n",
        "\n",
        "    # 레시피 썸네일\n",
        "    thumbnail = soup.select_one('#contents_area > div.view2_pic > div.centeredcrop img')['src']\n",
        "    recipe_thumbnail.append(thumbnail)\n",
        "\n",
        "    # 레시피 시간\n",
        "    time = soup.select_one('#contents_area > div.view2_summary.st3 > div.view2_summary_info > span.view2_summary_info2').get_text()\n",
        "    recipe_time.append(time)\n",
        "\n",
        "    # 레시피 난이도\n",
        "    difficulty = soup.select_one('#contents_area > div.view2_summary.st3 > div.view2_summary_info > span.view2_summary_info3').get_text()\n",
        "    recipe_difficulty.append(difficulty)\n",
        "\n",
        "    # 레시피 구성 (정보 없음)\n",
        "    recipe_composition.append('든든하게')\n",
        "\n",
        "    # 레시피 재료\n",
        "    ingredients = soup.select_one('#divConfirmedMaterialArea > ul:nth-child(1)')\n",
        "    for tmp in ingredients.select('li'):\n",
        "        item = tmp.get_text().replace('구매', '')\n",
        "        item = re.sub(r'\\s+', ' ', item.strip()) # 구매 링크 제외\n",
        "        recipe_ingredients.append('#' + item)\n",
        "    \n",
        "    # 레시피 양념\n",
        "    seasoning = soup.select_one('#divConfirmedMaterialArea > ul:nth-child(2)')\n",
        "    for tmp in seasoning.select('li'):\n",
        "        item = tmp.get_text().replace('구매', '')\n",
        "        item = re.sub(r'\\s+', ' ', item.strip())\n",
        "        recipe_seasoning.append('#' + item)\n",
        "\n",
        "    # 레시피 조리 순서 및 사진\n",
        "    orders_photo = soup.select_one('#contents_area > div:nth-child(16)')\n",
        "    steps = orders_photo.find_all('div', 'view_step_cont')\n",
        "    i = 0\n",
        "    for step in steps:\n",
        "        i = i + 1\n",
        "        order, material  = step.get_text().strip().split('.') # 조리 순서에서 주방 도구 제외\n",
        "        recipe_orders.append('#' + str(i) + '. ' + order)\n",
        "        recipe_photo.append('#' + step.find('img')['src'])\n",
        "                                 \n",
        "    recipe_all = [recipe_id, recipe_name, recipe_thumbnail, recipe_time, recipe_difficulty, recipe_composition, recipe_ingredients, recipe_seasoning, recipe_orders, recipe_photo]\n",
        "    return(recipe_all)\n"
      ],
      "metadata": {
        "id": "q46o0Te4GFlm"
      },
      "execution_count": 3,
      "outputs": []
    },
    {
      "cell_type": "code",
      "source": [
        "# 연어유부초밥\n",
        "RecipeCrawler(str(6909678))"
      ],
      "metadata": {
        "colab": {
          "base_uri": "https://localhost:8080/"
        },
        "id": "IOow35VLI7Ba",
        "outputId": "597bab92-a093-4976-fccf-802bd06808e3"
      },
      "execution_count": 4,
      "outputs": [
        {
          "output_type": "execute_result",
          "data": {
            "text/plain": [
              "[['6909678'],\n",
              " ['유부초밥도 이젠 고급지게 ★ 연어유부초밥'],\n",
              " ['https://recipe1.ezmember.co.kr/cache/recipe/2019/04/02/f8e2bac1e4e5387b34ef9dfa04f343b41.jpg'],\n",
              " ['15분 이내'],\n",
              " ['아무나'],\n",
              " ['든든하게'],\n",
              " ['#시판 유부 초밥 1봉지', '#밥 1+1/2공기', '#연어 1팩'],\n",
              " ['#다진 양파 2숟가락', '#마요네즈 3가락', '#레몬즙 1/2숟가락', '#꿀 1숟가락', '#소금 약간', '#후추 약간'],\n",
              " ['#1. 연어는 작게 썬다',\n",
              "  '#2. 볼에 소스를 만든다',\n",
              "  '#3. 밥에 배합초를 넣고 버무린다',\n",
              "  '#4. 유부의 물기를 짜고 밥>소스>연어를 올려 완성한다'],\n",
              " ['#https://recipe1.ezmember.co.kr/cache/recipe/2019/04/01/1617be01e2c10f03acd3dde68c6f954f1.jpg',\n",
              "  '#https://recipe1.ezmember.co.kr/cache/recipe/2019/04/01/0d63f0109b119a2b19d657de551ac10f1.jpg',\n",
              "  '#https://recipe1.ezmember.co.kr/cache/recipe/2019/04/01/d576fafdfe011986ea97ea2c2f6040311.jpg',\n",
              "  '#https://recipe1.ezmember.co.kr/cache/recipe/2019/04/01/c3be7cecabd170ada406bd7ee65362db1.jpg']]"
            ]
          },
          "metadata": {},
          "execution_count": 4
        }
      ]
    },
    {
      "cell_type": "code",
      "source": [
        "# 진미채볶음\n",
        "RecipeCrawler(str(6910583))"
      ],
      "metadata": {
        "colab": {
          "base_uri": "https://localhost:8080/"
        },
        "id": "DvOTBd_Cd0eA",
        "outputId": "10862b0b-8d62-450b-cba7-091e7200fdd1"
      },
      "execution_count": 5,
      "outputs": [
        {
          "output_type": "execute_result",
          "data": {
            "text/plain": [
              "[['6910583'],\n",
              " ['TV요리) 스페인하숙에서 배정남의 최애반찬 ★ 진미채볶음'],\n",
              " ['https://recipe1.ezmember.co.kr/cache/recipe/2019/04/15/2397c8931816bccbbc50834da1a6aebf1.jpg'],\n",
              " ['20분 이내'],\n",
              " ['초급'],\n",
              " ['든든하게'],\n",
              " ['#진미채 150g', '#통깨 약간'],\n",
              " ['#고추장 2숟가락',\n",
              "  '#간장 1숟가락',\n",
              "  '#고운고춧가루 1/2숟가락',\n",
              "  '#설탕 1숟가락',\n",
              "  '#물엿 2숟가락',\n",
              "  '#참기름 1숟가락'],\n",
              " ['#1. 진미채를 물에 씻은 후 잠길 만큼 물을 받아 5분간 불린다',\n",
              "  '#2. 진미채를 체에 걸러 키친타월에 펼쳐 물기를 꽉 제거한다',\n",
              "  '#3. 참기름을 제외한 양념 재료를 넣고 양념장을 만든다',\n",
              "  '#4. 달군팬에 기름을 두르고 진미채를 넣고 중불에서 수분이 날아갈정도로 볶는다',\n",
              "  '#5. 양념장을 넣고 약불에서 볶은 후 참기름을 두르고 통깨를 뿌려 완성한다'],\n",
              " ['#https://recipe1.ezmember.co.kr/cache/recipe/2019/04/15/cd052d1f3bba54e746d9a01e811ddbc61.jpg',\n",
              "  '#https://recipe1.ezmember.co.kr/cache/recipe/2019/04/15/5f628f862ed1eabe6902ece3aa7687f81.jpg',\n",
              "  '#https://recipe1.ezmember.co.kr/cache/recipe/2019/04/15/128b9f2e360f4dc46fbe6100eef0b2601.jpg',\n",
              "  '#https://recipe1.ezmember.co.kr/cache/recipe/2019/04/15/c9daf5445aaeb3b11bea0396d7b2fc1e1.jpg',\n",
              "  '#https://recipe1.ezmember.co.kr/cache/recipe/2019/04/15/675668d8c6d3b09b49f3188f3d8781621.jpg']]"
            ]
          },
          "metadata": {},
          "execution_count": 5
        }
      ]
    }
  ]
}